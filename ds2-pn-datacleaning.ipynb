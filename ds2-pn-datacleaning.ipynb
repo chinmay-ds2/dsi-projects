{
 "cells": [
  {
   "cell_type": "code",
   "execution_count": 2,
   "metadata": {
    "collapsed": true
   },
   "outputs": [],
   "source": [
    "import pandas as pd\n",
    "import numpy as np\n",
    "import datetime as dt\n",
    "%matplotlib inline"
   ]
  },
  {
   "cell_type": "code",
   "execution_count": 3,
   "metadata": {
    "collapsed": false
   },
   "outputs": [],
   "source": [
    "tfile = 'f78_M03_temperature.csv'\n",
    "t = pd.read_csv(tfile, usecols = ['time', 'temperature'], parse_dates = 'Time', infer_datetime_format = True)\n",
    "kfile = '78_03-01-2016_04-01-2016.csv'\n",
    "kw = pd.read_csv(kfile, parse_dates = 'Time', infer_datetime_format = True)"
   ]
  },
  {
   "cell_type": "code",
   "execution_count": 4,
   "metadata": {
    "collapsed": false
   },
   "outputs": [
    {
     "data": {
      "text/html": [
       "<div>\n",
       "<table border=\"1\" class=\"dataframe\">\n",
       "  <thead>\n",
       "    <tr style=\"text-align: right;\">\n",
       "      <th></th>\n",
       "      <th>Time</th>\n",
       "      <th>Total Facility Power</th>\n",
       "    </tr>\n",
       "  </thead>\n",
       "  <tbody>\n",
       "    <tr>\n",
       "      <th>0</th>\n",
       "      <td>02/29/2016 23:00:00</td>\n",
       "      <td>800.653982</td>\n",
       "    </tr>\n",
       "    <tr>\n",
       "      <th>1</th>\n",
       "      <td>03/01/2016 00:00:00</td>\n",
       "      <td>823.173863</td>\n",
       "    </tr>\n",
       "    <tr>\n",
       "      <th>2</th>\n",
       "      <td>03/01/2016 01:00:00</td>\n",
       "      <td>787.818586</td>\n",
       "    </tr>\n",
       "    <tr>\n",
       "      <th>3</th>\n",
       "      <td>03/01/2016 02:00:00</td>\n",
       "      <td>741.652377</td>\n",
       "    </tr>\n",
       "    <tr>\n",
       "      <th>4</th>\n",
       "      <td>03/01/2016 03:00:00</td>\n",
       "      <td>768.046417</td>\n",
       "    </tr>\n",
       "  </tbody>\n",
       "</table>\n",
       "</div>"
      ],
      "text/plain": [
       "                  Time  Total Facility Power\n",
       "0  02/29/2016 23:00:00            800.653982\n",
       "1  03/01/2016 00:00:00            823.173863\n",
       "2  03/01/2016 01:00:00            787.818586\n",
       "3  03/01/2016 02:00:00            741.652377\n",
       "4  03/01/2016 03:00:00            768.046417"
      ]
     },
     "execution_count": 4,
     "metadata": {},
     "output_type": "execute_result"
    }
   ],
   "source": [
    "kw.head(5)"
   ]
  },
  {
   "cell_type": "code",
   "execution_count": 5,
   "metadata": {
    "collapsed": false
   },
   "outputs": [],
   "source": [
    "kw = kw.drop([0])"
   ]
  },
  {
   "cell_type": "code",
   "execution_count": 6,
   "metadata": {
    "collapsed": false
   },
   "outputs": [
    {
     "data": {
      "text/html": [
       "<div>\n",
       "<table border=\"1\" class=\"dataframe\">\n",
       "  <thead>\n",
       "    <tr style=\"text-align: right;\">\n",
       "      <th></th>\n",
       "      <th>time</th>\n",
       "      <th>temperature</th>\n",
       "    </tr>\n",
       "  </thead>\n",
       "  <tbody>\n",
       "    <tr>\n",
       "      <th>738</th>\n",
       "      <td>03/31/2016 19:00:00</td>\n",
       "      <td>73.18</td>\n",
       "    </tr>\n",
       "    <tr>\n",
       "      <th>739</th>\n",
       "      <td>03/31/2016 20:00:00</td>\n",
       "      <td>71.22</td>\n",
       "    </tr>\n",
       "    <tr>\n",
       "      <th>740</th>\n",
       "      <td>03/31/2016 21:00:00</td>\n",
       "      <td>68.66</td>\n",
       "    </tr>\n",
       "    <tr>\n",
       "      <th>741</th>\n",
       "      <td>03/31/2016 22:00:00</td>\n",
       "      <td>68.62</td>\n",
       "    </tr>\n",
       "    <tr>\n",
       "      <th>742</th>\n",
       "      <td>03/31/2016 23:00:00</td>\n",
       "      <td>68.40</td>\n",
       "    </tr>\n",
       "  </tbody>\n",
       "</table>\n",
       "</div>"
      ],
      "text/plain": [
       "                    time  temperature\n",
       "738  03/31/2016 19:00:00        73.18\n",
       "739  03/31/2016 20:00:00        71.22\n",
       "740  03/31/2016 21:00:00        68.66\n",
       "741  03/31/2016 22:00:00        68.62\n",
       "742  03/31/2016 23:00:00        68.40"
      ]
     },
     "execution_count": 6,
     "metadata": {},
     "output_type": "execute_result"
    }
   ],
   "source": [
    "t.tail(5)"
   ]
  },
  {
   "cell_type": "code",
   "execution_count": 7,
   "metadata": {
    "collapsed": false
   },
   "outputs": [
    {
     "data": {
      "text/plain": [
       "array([719, 720, 721, 722, 723, 724, 725, 726, 727, 728, 729, 730, 731,\n",
       "       732, 733, 734, 735, 736, 737, 738, 739, 740, 741, 742])"
      ]
     },
     "execution_count": 7,
     "metadata": {},
     "output_type": "execute_result"
    }
   ],
   "source": [
    "rng = np.arange(start = 719, stop = 743, step = 1)\n",
    "rng"
   ]
  },
  {
   "cell_type": "code",
   "execution_count": 8,
   "metadata": {
    "collapsed": false
   },
   "outputs": [
    {
     "data": {
      "text/html": [
       "<div>\n",
       "<table border=\"1\" class=\"dataframe\">\n",
       "  <thead>\n",
       "    <tr style=\"text-align: right;\">\n",
       "      <th></th>\n",
       "      <th>time</th>\n",
       "      <th>temperature</th>\n",
       "    </tr>\n",
       "  </thead>\n",
       "  <tbody>\n",
       "    <tr>\n",
       "      <th>714</th>\n",
       "      <td>03/30/2016 19:00:00</td>\n",
       "      <td>62.00</td>\n",
       "    </tr>\n",
       "    <tr>\n",
       "      <th>715</th>\n",
       "      <td>03/30/2016 20:00:00</td>\n",
       "      <td>59.14</td>\n",
       "    </tr>\n",
       "    <tr>\n",
       "      <th>716</th>\n",
       "      <td>03/30/2016 21:00:00</td>\n",
       "      <td>57.99</td>\n",
       "    </tr>\n",
       "    <tr>\n",
       "      <th>717</th>\n",
       "      <td>03/30/2016 22:00:00</td>\n",
       "      <td>57.03</td>\n",
       "    </tr>\n",
       "    <tr>\n",
       "      <th>718</th>\n",
       "      <td>03/30/2016 23:00:00</td>\n",
       "      <td>55.32</td>\n",
       "    </tr>\n",
       "  </tbody>\n",
       "</table>\n",
       "</div>"
      ],
      "text/plain": [
       "                    time  temperature\n",
       "714  03/30/2016 19:00:00        62.00\n",
       "715  03/30/2016 20:00:00        59.14\n",
       "716  03/30/2016 21:00:00        57.99\n",
       "717  03/30/2016 22:00:00        57.03\n",
       "718  03/30/2016 23:00:00        55.32"
      ]
     },
     "execution_count": 8,
     "metadata": {},
     "output_type": "execute_result"
    }
   ],
   "source": [
    "t = t.drop(rng)\n",
    "t.tail(5)"
   ]
  },
  {
   "cell_type": "code",
   "execution_count": 9,
   "metadata": {
    "collapsed": false
   },
   "outputs": [
    {
     "data": {
      "text/html": [
       "<div>\n",
       "<table border=\"1\" class=\"dataframe\">\n",
       "  <thead>\n",
       "    <tr style=\"text-align: right;\">\n",
       "      <th></th>\n",
       "      <th>time</th>\n",
       "      <th>temperature</th>\n",
       "    </tr>\n",
       "  </thead>\n",
       "  <tbody>\n",
       "    <tr>\n",
       "      <th>0</th>\n",
       "      <td>03/01/2016 00:00:00</td>\n",
       "      <td>41.80</td>\n",
       "    </tr>\n",
       "    <tr>\n",
       "      <th>1</th>\n",
       "      <td>03/01/2016 01:00:00</td>\n",
       "      <td>40.83</td>\n",
       "    </tr>\n",
       "    <tr>\n",
       "      <th>2</th>\n",
       "      <td>03/01/2016 02:00:00</td>\n",
       "      <td>35.73</td>\n",
       "    </tr>\n",
       "    <tr>\n",
       "      <th>3</th>\n",
       "      <td>03/01/2016 03:00:00</td>\n",
       "      <td>37.26</td>\n",
       "    </tr>\n",
       "    <tr>\n",
       "      <th>4</th>\n",
       "      <td>03/01/2016 04:00:00</td>\n",
       "      <td>36.34</td>\n",
       "    </tr>\n",
       "  </tbody>\n",
       "</table>\n",
       "</div>"
      ],
      "text/plain": [
       "                  time  temperature\n",
       "0  03/01/2016 00:00:00        41.80\n",
       "1  03/01/2016 01:00:00        40.83\n",
       "2  03/01/2016 02:00:00        35.73\n",
       "3  03/01/2016 03:00:00        37.26\n",
       "4  03/01/2016 04:00:00        36.34"
      ]
     },
     "execution_count": 9,
     "metadata": {},
     "output_type": "execute_result"
    }
   ],
   "source": [
    "t.head(5)"
   ]
  },
  {
   "cell_type": "code",
   "execution_count": 10,
   "metadata": {
    "collapsed": false
   },
   "outputs": [
    {
     "data": {
      "text/html": [
       "<div>\n",
       "<table border=\"1\" class=\"dataframe\">\n",
       "  <thead>\n",
       "    <tr style=\"text-align: right;\">\n",
       "      <th></th>\n",
       "      <th>Time</th>\n",
       "      <th>Temperature(F)</th>\n",
       "    </tr>\n",
       "  </thead>\n",
       "  <tbody>\n",
       "    <tr>\n",
       "      <th>0</th>\n",
       "      <td>03/01/2016 00:00:00</td>\n",
       "      <td>41.80</td>\n",
       "    </tr>\n",
       "    <tr>\n",
       "      <th>1</th>\n",
       "      <td>03/01/2016 01:00:00</td>\n",
       "      <td>40.83</td>\n",
       "    </tr>\n",
       "    <tr>\n",
       "      <th>2</th>\n",
       "      <td>03/01/2016 02:00:00</td>\n",
       "      <td>35.73</td>\n",
       "    </tr>\n",
       "  </tbody>\n",
       "</table>\n",
       "</div>"
      ],
      "text/plain": [
       "                  Time  Temperature(F)\n",
       "0  03/01/2016 00:00:00           41.80\n",
       "1  03/01/2016 01:00:00           40.83\n",
       "2  03/01/2016 02:00:00           35.73"
      ]
     },
     "execution_count": 10,
     "metadata": {},
     "output_type": "execute_result"
    }
   ],
   "source": [
    "t.columns = ['Time', 'Temperature(F)']\n",
    "t.head(3)"
   ]
  },
  {
   "cell_type": "code",
   "execution_count": 11,
   "metadata": {
    "collapsed": true
   },
   "outputs": [],
   "source": [
    "kwt = pd.merge(t, kw, on = 'Time')"
   ]
  },
  {
   "cell_type": "code",
   "execution_count": 12,
   "metadata": {
    "collapsed": false
   },
   "outputs": [
    {
     "data": {
      "text/html": [
       "<div>\n",
       "<table border=\"1\" class=\"dataframe\">\n",
       "  <thead>\n",
       "    <tr style=\"text-align: right;\">\n",
       "      <th></th>\n",
       "      <th>Time</th>\n",
       "      <th>Temperature(F)</th>\n",
       "      <th>Total Facility Power</th>\n",
       "    </tr>\n",
       "  </thead>\n",
       "  <tbody>\n",
       "    <tr>\n",
       "      <th>0</th>\n",
       "      <td>03/01/2016 00:00:00</td>\n",
       "      <td>41.80</td>\n",
       "      <td>823.173863</td>\n",
       "    </tr>\n",
       "    <tr>\n",
       "      <th>1</th>\n",
       "      <td>03/01/2016 01:00:00</td>\n",
       "      <td>40.83</td>\n",
       "      <td>787.818586</td>\n",
       "    </tr>\n",
       "    <tr>\n",
       "      <th>2</th>\n",
       "      <td>03/01/2016 02:00:00</td>\n",
       "      <td>35.73</td>\n",
       "      <td>741.652377</td>\n",
       "    </tr>\n",
       "    <tr>\n",
       "      <th>3</th>\n",
       "      <td>03/01/2016 03:00:00</td>\n",
       "      <td>37.26</td>\n",
       "      <td>768.046417</td>\n",
       "    </tr>\n",
       "    <tr>\n",
       "      <th>4</th>\n",
       "      <td>03/01/2016 04:00:00</td>\n",
       "      <td>36.34</td>\n",
       "      <td>808.480284</td>\n",
       "    </tr>\n",
       "  </tbody>\n",
       "</table>\n",
       "</div>"
      ],
      "text/plain": [
       "                  Time  Temperature(F)  Total Facility Power\n",
       "0  03/01/2016 00:00:00           41.80            823.173863\n",
       "1  03/01/2016 01:00:00           40.83            787.818586\n",
       "2  03/01/2016 02:00:00           35.73            741.652377\n",
       "3  03/01/2016 03:00:00           37.26            768.046417\n",
       "4  03/01/2016 04:00:00           36.34            808.480284"
      ]
     },
     "execution_count": 12,
     "metadata": {},
     "output_type": "execute_result"
    }
   ],
   "source": [
    "kwt.head(5)"
   ]
  },
  {
   "cell_type": "code",
   "execution_count": 13,
   "metadata": {
    "collapsed": false
   },
   "outputs": [
    {
     "data": {
      "text/plain": [
       "<matplotlib.axes._subplots.AxesSubplot at 0x1117f22e8>"
      ]
     },
     "execution_count": 13,
     "metadata": {},
     "output_type": "execute_result"
    },
    {
     "data": {
      "image/png": "[encoded data removed]",
      "text/plain": [
       "<matplotlib.figure.Figure at 0x1117de828>"
      ]
     },
     "metadata": {},
     "output_type": "display_data"
    }
   ],
   "source": [
    "kwt.plot(x = 'Temperature(F)', y = 'Total Facility Power', kind = 'scatter')"
   ]
  },
  {
   "cell_type": "code",
   "execution_count": 56,
   "metadata": {
    "collapsed": false
   },
   "outputs": [],
   "source": [
    "pifile = 'N78_in_M03.csv'\n",
    "pi = pd.read_csv(pifile, usecols = [ 'actual_date', 'total_weight'], parse_dates = 'actual_date', infer_datetime_format = True)\n",
    "pi.columns = ['Time', 'Inbound(lbs)']"
   ]
  },
  {
   "cell_type": "code",
   "execution_count": null,
   "metadata": {
    "collapsed": false
   },
   "outputs": [],
   "source": []
  },
  {
   "cell_type": "code",
   "execution_count": 57,
   "metadata": {
    "collapsed": false
   },
   "outputs": [],
   "source": [
    "pi = pi.set_index(pd.DatetimeIndex(pi['Time']))"
   ]
  },
  {
   "cell_type": "code",
   "execution_count": 58,
   "metadata": {
    "collapsed": false
   },
   "outputs": [],
   "source": [
    "pi = pi.resample('H').sum()"
   ]
  },
  {
   "cell_type": "code",
   "execution_count": 59,
   "metadata": {
    "collapsed": false
   },
   "outputs": [
    {
     "data": {
      "text/html": [
       "<div>\n",
       "<table border=\"1\" class=\"dataframe\">\n",
       "  <thead>\n",
       "    <tr style=\"text-align: right;\">\n",
       "      <th></th>\n",
       "      <th>Inbound(lbs)</th>\n",
       "    </tr>\n",
       "  </thead>\n",
       "  <tbody>\n",
       "    <tr>\n",
       "      <th>2016-03-01 09:00:00</th>\n",
       "      <td>73026.0</td>\n",
       "    </tr>\n",
       "    <tr>\n",
       "      <th>2016-03-01 10:00:00</th>\n",
       "      <td>36189.0</td>\n",
       "    </tr>\n",
       "    <tr>\n",
       "      <th>2016-03-01 11:00:00</th>\n",
       "      <td>77078.0</td>\n",
       "    </tr>\n",
       "    <tr>\n",
       "      <th>2016-03-01 12:00:00</th>\n",
       "      <td>36053.0</td>\n",
       "    </tr>\n",
       "    <tr>\n",
       "      <th>2016-03-01 13:00:00</th>\n",
       "      <td>0.0</td>\n",
       "    </tr>\n",
       "    <tr>\n",
       "      <th>2016-03-01 14:00:00</th>\n",
       "      <td>2440.0</td>\n",
       "    </tr>\n",
       "    <tr>\n",
       "      <th>2016-03-01 15:00:00</th>\n",
       "      <td>0.0</td>\n",
       "    </tr>\n",
       "    <tr>\n",
       "      <th>2016-03-01 16:00:00</th>\n",
       "      <td>0.0</td>\n",
       "    </tr>\n",
       "    <tr>\n",
       "      <th>2016-03-01 17:00:00</th>\n",
       "      <td>0.0</td>\n",
       "    </tr>\n",
       "    <tr>\n",
       "      <th>2016-03-01 18:00:00</th>\n",
       "      <td>0.0</td>\n",
       "    </tr>\n",
       "  </tbody>\n",
       "</table>\n",
       "</div>"
      ],
      "text/plain": [
       "                     Inbound(lbs)\n",
       "2016-03-01 09:00:00       73026.0\n",
       "2016-03-01 10:00:00       36189.0\n",
       "2016-03-01 11:00:00       77078.0\n",
       "2016-03-01 12:00:00       36053.0\n",
       "2016-03-01 13:00:00           0.0\n",
       "2016-03-01 14:00:00        2440.0\n",
       "2016-03-01 15:00:00           0.0\n",
       "2016-03-01 16:00:00           0.0\n",
       "2016-03-01 17:00:00           0.0\n",
       "2016-03-01 18:00:00           0.0"
      ]
     },
     "execution_count": 59,
     "metadata": {},
     "output_type": "execute_result"
    }
   ],
   "source": [
    "pi = pi.fillna(0)\n",
    "pi.head(10)"
   ]
  },
  {
   "cell_type": "code",
   "execution_count": 60,
   "metadata": {
    "collapsed": false
   },
   "outputs": [
    {
     "data": {
      "text/plain": [
       "0   2016-03-01 00:00:00\n",
       "1   2016-03-01 01:00:00\n",
       "2   2016-03-01 02:00:00\n",
       "3   2016-03-01 03:00:00\n",
       "4   2016-03-01 04:00:00\n",
       "Name: Time, dtype: datetime64[ns]"
      ]
     },
     "execution_count": 60,
     "metadata": {},
     "output_type": "execute_result"
    }
   ],
   "source": [
    "kwt['Time'] = pd.to_datetime(kwt['Time'])\n",
    "idx = kwt.Time\n",
    "idx.head(5)"
   ]
  },
  {
   "cell_type": "code",
   "execution_count": 61,
   "metadata": {
    "collapsed": false
   },
   "outputs": [
    {
     "data": {
      "text/html": [
       "<div>\n",
       "<table border=\"1\" class=\"dataframe\">\n",
       "  <thead>\n",
       "    <tr style=\"text-align: right;\">\n",
       "      <th></th>\n",
       "      <th>Inbound(lbs)</th>\n",
       "    </tr>\n",
       "    <tr>\n",
       "      <th>Time</th>\n",
       "      <th></th>\n",
       "    </tr>\n",
       "  </thead>\n",
       "  <tbody>\n",
       "    <tr>\n",
       "      <th>2016-03-01 00:00:00</th>\n",
       "      <td>0.0</td>\n",
       "    </tr>\n",
       "    <tr>\n",
       "      <th>2016-03-01 01:00:00</th>\n",
       "      <td>0.0</td>\n",
       "    </tr>\n",
       "    <tr>\n",
       "      <th>2016-03-01 02:00:00</th>\n",
       "      <td>0.0</td>\n",
       "    </tr>\n",
       "    <tr>\n",
       "      <th>2016-03-01 03:00:00</th>\n",
       "      <td>0.0</td>\n",
       "    </tr>\n",
       "    <tr>\n",
       "      <th>2016-03-01 04:00:00</th>\n",
       "      <td>0.0</td>\n",
       "    </tr>\n",
       "    <tr>\n",
       "      <th>2016-03-01 05:00:00</th>\n",
       "      <td>0.0</td>\n",
       "    </tr>\n",
       "    <tr>\n",
       "      <th>2016-03-01 06:00:00</th>\n",
       "      <td>0.0</td>\n",
       "    </tr>\n",
       "    <tr>\n",
       "      <th>2016-03-01 07:00:00</th>\n",
       "      <td>0.0</td>\n",
       "    </tr>\n",
       "    <tr>\n",
       "      <th>2016-03-01 08:00:00</th>\n",
       "      <td>0.0</td>\n",
       "    </tr>\n",
       "    <tr>\n",
       "      <th>2016-03-01 09:00:00</th>\n",
       "      <td>73026.0</td>\n",
       "    </tr>\n",
       "    <tr>\n",
       "      <th>2016-03-01 10:00:00</th>\n",
       "      <td>36189.0</td>\n",
       "    </tr>\n",
       "    <tr>\n",
       "      <th>2016-03-01 11:00:00</th>\n",
       "      <td>77078.0</td>\n",
       "    </tr>\n",
       "    <tr>\n",
       "      <th>2016-03-01 12:00:00</th>\n",
       "      <td>36053.0</td>\n",
       "    </tr>\n",
       "    <tr>\n",
       "      <th>2016-03-01 13:00:00</th>\n",
       "      <td>0.0</td>\n",
       "    </tr>\n",
       "    <tr>\n",
       "      <th>2016-03-01 14:00:00</th>\n",
       "      <td>2440.0</td>\n",
       "    </tr>\n",
       "  </tbody>\n",
       "</table>\n",
       "</div>"
      ],
      "text/plain": [
       "                     Inbound(lbs)\n",
       "Time                             \n",
       "2016-03-01 00:00:00           0.0\n",
       "2016-03-01 01:00:00           0.0\n",
       "2016-03-01 02:00:00           0.0\n",
       "2016-03-01 03:00:00           0.0\n",
       "2016-03-01 04:00:00           0.0\n",
       "2016-03-01 05:00:00           0.0\n",
       "2016-03-01 06:00:00           0.0\n",
       "2016-03-01 07:00:00           0.0\n",
       "2016-03-01 08:00:00           0.0\n",
       "2016-03-01 09:00:00       73026.0\n",
       "2016-03-01 10:00:00       36189.0\n",
       "2016-03-01 11:00:00       77078.0\n",
       "2016-03-01 12:00:00       36053.0\n",
       "2016-03-01 13:00:00           0.0\n",
       "2016-03-01 14:00:00        2440.0"
      ]
     },
     "execution_count": 61,
     "metadata": {},
     "output_type": "execute_result"
    }
   ],
   "source": [
    "pi = pi.reindex(idx, fill_value=0)\n",
    "pi.head(15)"
   ]
  },
  {
   "cell_type": "code",
   "execution_count": 62,
   "metadata": {
    "collapsed": false
   },
   "outputs": [
    {
     "data": {
      "text/html": [
       "<div>\n",
       "<table border=\"1\" class=\"dataframe\">\n",
       "  <thead>\n",
       "    <tr style=\"text-align: right;\">\n",
       "      <th></th>\n",
       "      <th>Inbound(lbs)</th>\n",
       "    </tr>\n",
       "    <tr>\n",
       "      <th>Time</th>\n",
       "      <th></th>\n",
       "    </tr>\n",
       "  </thead>\n",
       "  <tbody>\n",
       "    <tr>\n",
       "      <th>2016-03-01 00:00:00</th>\n",
       "      <td>0.0</td>\n",
       "    </tr>\n",
       "    <tr>\n",
       "      <th>2016-03-01 01:00:00</th>\n",
       "      <td>0.0</td>\n",
       "    </tr>\n",
       "    <tr>\n",
       "      <th>2016-03-01 02:00:00</th>\n",
       "      <td>0.0</td>\n",
       "    </tr>\n",
       "    <tr>\n",
       "      <th>2016-03-01 03:00:00</th>\n",
       "      <td>0.0</td>\n",
       "    </tr>\n",
       "    <tr>\n",
       "      <th>2016-03-01 04:00:00</th>\n",
       "      <td>0.0</td>\n",
       "    </tr>\n",
       "  </tbody>\n",
       "</table>\n",
       "</div>"
      ],
      "text/plain": [
       "                     Inbound(lbs)\n",
       "Time                             \n",
       "2016-03-01 00:00:00           0.0\n",
       "2016-03-01 01:00:00           0.0\n",
       "2016-03-01 02:00:00           0.0\n",
       "2016-03-01 03:00:00           0.0\n",
       "2016-03-01 04:00:00           0.0"
      ]
     },
     "execution_count": 62,
     "metadata": {},
     "output_type": "execute_result"
    }
   ],
   "source": [
    "pi.head(5)"
   ]
  },
  {
   "cell_type": "code",
   "execution_count": 63,
   "metadata": {
    "collapsed": false
   },
   "outputs": [],
   "source": [
    "pi.reset_index(level=0, inplace=True)"
   ]
  },
  {
   "cell_type": "code",
   "execution_count": 64,
   "metadata": {
    "collapsed": false
   },
   "outputs": [
    {
     "data": {
      "text/html": [
       "<div>\n",
       "<table border=\"1\" class=\"dataframe\">\n",
       "  <thead>\n",
       "    <tr style=\"text-align: right;\">\n",
       "      <th></th>\n",
       "      <th>Time</th>\n",
       "      <th>Inbound(lbs)</th>\n",
       "    </tr>\n",
       "  </thead>\n",
       "  <tbody>\n",
       "    <tr>\n",
       "      <th>0</th>\n",
       "      <td>2016-03-01 00:00:00</td>\n",
       "      <td>0.0</td>\n",
       "    </tr>\n",
       "    <tr>\n",
       "      <th>1</th>\n",
       "      <td>2016-03-01 01:00:00</td>\n",
       "      <td>0.0</td>\n",
       "    </tr>\n",
       "    <tr>\n",
       "      <th>2</th>\n",
       "      <td>2016-03-01 02:00:00</td>\n",
       "      <td>0.0</td>\n",
       "    </tr>\n",
       "    <tr>\n",
       "      <th>3</th>\n",
       "      <td>2016-03-01 03:00:00</td>\n",
       "      <td>0.0</td>\n",
       "    </tr>\n",
       "    <tr>\n",
       "      <th>4</th>\n",
       "      <td>2016-03-01 04:00:00</td>\n",
       "      <td>0.0</td>\n",
       "    </tr>\n",
       "  </tbody>\n",
       "</table>\n",
       "</div>"
      ],
      "text/plain": [
       "                 Time  Inbound(lbs)\n",
       "0 2016-03-01 00:00:00           0.0\n",
       "1 2016-03-01 01:00:00           0.0\n",
       "2 2016-03-01 02:00:00           0.0\n",
       "3 2016-03-01 03:00:00           0.0\n",
       "4 2016-03-01 04:00:00           0.0"
      ]
     },
     "execution_count": 64,
     "metadata": {},
     "output_type": "execute_result"
    }
   ],
   "source": [
    "pi.head(5)"
   ]
  },
  {
   "cell_type": "code",
   "execution_count": 65,
   "metadata": {
    "collapsed": false
   },
   "outputs": [
    {
     "data": {
      "text/html": [
       "<div>\n",
       "<table border=\"1\" class=\"dataframe\">\n",
       "  <thead>\n",
       "    <tr style=\"text-align: right;\">\n",
       "      <th></th>\n",
       "      <th>Time</th>\n",
       "      <th>Temperature(F)</th>\n",
       "      <th>Total Facility Power</th>\n",
       "      <th>Inbound(lbs)</th>\n",
       "    </tr>\n",
       "  </thead>\n",
       "  <tbody>\n",
       "    <tr>\n",
       "      <th>0</th>\n",
       "      <td>2016-03-01 00:00:00</td>\n",
       "      <td>41.80</td>\n",
       "      <td>823.173863</td>\n",
       "      <td>0.0</td>\n",
       "    </tr>\n",
       "    <tr>\n",
       "      <th>1</th>\n",
       "      <td>2016-03-01 01:00:00</td>\n",
       "      <td>40.83</td>\n",
       "      <td>787.818586</td>\n",
       "      <td>0.0</td>\n",
       "    </tr>\n",
       "    <tr>\n",
       "      <th>2</th>\n",
       "      <td>2016-03-01 02:00:00</td>\n",
       "      <td>35.73</td>\n",
       "      <td>741.652377</td>\n",
       "      <td>0.0</td>\n",
       "    </tr>\n",
       "    <tr>\n",
       "      <th>3</th>\n",
       "      <td>2016-03-01 03:00:00</td>\n",
       "      <td>37.26</td>\n",
       "      <td>768.046417</td>\n",
       "      <td>0.0</td>\n",
       "    </tr>\n",
       "    <tr>\n",
       "      <th>4</th>\n",
       "      <td>2016-03-01 04:00:00</td>\n",
       "      <td>36.34</td>\n",
       "      <td>808.480284</td>\n",
       "      <td>0.0</td>\n",
       "    </tr>\n",
       "    <tr>\n",
       "      <th>5</th>\n",
       "      <td>2016-03-01 05:00:00</td>\n",
       "      <td>35.23</td>\n",
       "      <td>784.306267</td>\n",
       "      <td>0.0</td>\n",
       "    </tr>\n",
       "    <tr>\n",
       "      <th>6</th>\n",
       "      <td>2016-03-01 06:00:00</td>\n",
       "      <td>34.21</td>\n",
       "      <td>821.327244</td>\n",
       "      <td>0.0</td>\n",
       "    </tr>\n",
       "    <tr>\n",
       "      <th>7</th>\n",
       "      <td>2016-03-01 07:00:00</td>\n",
       "      <td>33.43</td>\n",
       "      <td>788.318806</td>\n",
       "      <td>0.0</td>\n",
       "    </tr>\n",
       "    <tr>\n",
       "      <th>8</th>\n",
       "      <td>2016-03-01 08:00:00</td>\n",
       "      <td>39.73</td>\n",
       "      <td>754.899474</td>\n",
       "      <td>0.0</td>\n",
       "    </tr>\n",
       "    <tr>\n",
       "      <th>9</th>\n",
       "      <td>2016-03-01 09:00:00</td>\n",
       "      <td>54.06</td>\n",
       "      <td>820.241929</td>\n",
       "      <td>73026.0</td>\n",
       "    </tr>\n",
       "  </tbody>\n",
       "</table>\n",
       "</div>"
      ],
      "text/plain": [
       "                 Time  Temperature(F)  Total Facility Power  Inbound(lbs)\n",
       "0 2016-03-01 00:00:00           41.80            823.173863           0.0\n",
       "1 2016-03-01 01:00:00           40.83            787.818586           0.0\n",
       "2 2016-03-01 02:00:00           35.73            741.652377           0.0\n",
       "3 2016-03-01 03:00:00           37.26            768.046417           0.0\n",
       "4 2016-03-01 04:00:00           36.34            808.480284           0.0\n",
       "5 2016-03-01 05:00:00           35.23            784.306267           0.0\n",
       "6 2016-03-01 06:00:00           34.21            821.327244           0.0\n",
       "7 2016-03-01 07:00:00           33.43            788.318806           0.0\n",
       "8 2016-03-01 08:00:00           39.73            754.899474           0.0\n",
       "9 2016-03-01 09:00:00           54.06            820.241929       73026.0"
      ]
     },
     "execution_count": 65,
     "metadata": {},
     "output_type": "execute_result"
    }
   ],
   "source": [
    "kwtp = pd.merge(kwt, pi, on = 'Time')\n",
    "kwtp.head(10)"
   ]
  },
  {
   "cell_type": "code",
   "execution_count": 66,
   "metadata": {
    "collapsed": false
   },
   "outputs": [],
   "source": [
    "kwtp.to_csv('f78_AllData.csv')"
   ]
  },
  {
   "cell_type": "code",
   "execution_count": 67,
   "metadata": {
    "collapsed": false
   },
   "outputs": [
    {
     "data": {
      "text/plain": [
       "<matplotlib.axes._subplots.AxesSubplot at 0x112f44160>"
      ]
     },
     "execution_count": 67,
     "metadata": {},
     "output_type": "execute_result"
    },
    {
     "data": {
      "image/png": "[encoded data removed]",
      "text/plain": [
       "<matplotlib.figure.Figure at 0x112f504a8>"
      ]
     },
     "metadata": {},
     "output_type": "display_data"
    }
   ],
   "source": [
    "kwtp.plot(x = 'Inbound(lbs)', y = 'Total Facility Power', kind = 'scatter' , color = 'red')"
   ]
  },
  {
   "cell_type": "code",
   "execution_count": 68,
   "metadata": {
    "collapsed": true
   },
   "outputs": [],
   "source": [
    "pofile = 'N78_od_M03.csv'\n",
    "po = pd.read_csv(pofile, usecols = [ 'actual_date', 'total_weight'], parse_dates = 'actual_date', infer_datetime_format = True)\n",
    "po.columns = ['Time', 'Onbound (lbs)']"
   ]
  },
  {
   "cell_type": "code",
   "execution_count": 69,
   "metadata": {
    "collapsed": false
   },
   "outputs": [
    {
     "data": {
      "text/html": [
       "<div>\n",
       "<table border=\"1\" class=\"dataframe\">\n",
       "  <thead>\n",
       "    <tr style=\"text-align: right;\">\n",
       "      <th></th>\n",
       "      <th>Onbound (lbs)</th>\n",
       "    </tr>\n",
       "  </thead>\n",
       "  <tbody>\n",
       "    <tr>\n",
       "      <th>2016-03-01 06:00:00</th>\n",
       "      <td>19250.0</td>\n",
       "    </tr>\n",
       "    <tr>\n",
       "      <th>2016-03-01 07:00:00</th>\n",
       "      <td>75134.0</td>\n",
       "    </tr>\n",
       "    <tr>\n",
       "      <th>2016-03-01 08:00:00</th>\n",
       "      <td>0.0</td>\n",
       "    </tr>\n",
       "    <tr>\n",
       "      <th>2016-03-01 09:00:00</th>\n",
       "      <td>37871.0</td>\n",
       "    </tr>\n",
       "    <tr>\n",
       "      <th>2016-03-01 10:00:00</th>\n",
       "      <td>33796.0</td>\n",
       "    </tr>\n",
       "  </tbody>\n",
       "</table>\n",
       "</div>"
      ],
      "text/plain": [
       "                     Onbound (lbs)\n",
       "2016-03-01 06:00:00        19250.0\n",
       "2016-03-01 07:00:00        75134.0\n",
       "2016-03-01 08:00:00            0.0\n",
       "2016-03-01 09:00:00        37871.0\n",
       "2016-03-01 10:00:00        33796.0"
      ]
     },
     "execution_count": 69,
     "metadata": {},
     "output_type": "execute_result"
    }
   ],
   "source": [
    "po = po.set_index(pd.DatetimeIndex(po['Time']))\n",
    "po = po.resample('H').sum()\n",
    "po = po.fillna(0)\n",
    "po.head(5)"
   ]
  },
  {
   "cell_type": "code",
   "execution_count": 70,
   "metadata": {
    "collapsed": false
   },
   "outputs": [
    {
     "data": {
      "text/html": [
       "<div>\n",
       "<table border=\"1\" class=\"dataframe\">\n",
       "  <thead>\n",
       "    <tr style=\"text-align: right;\">\n",
       "      <th></th>\n",
       "      <th>Onbound (lbs)</th>\n",
       "    </tr>\n",
       "    <tr>\n",
       "      <th>Time</th>\n",
       "      <th></th>\n",
       "    </tr>\n",
       "  </thead>\n",
       "  <tbody>\n",
       "    <tr>\n",
       "      <th>2016-03-01 00:00:00</th>\n",
       "      <td>0.0</td>\n",
       "    </tr>\n",
       "    <tr>\n",
       "      <th>2016-03-01 01:00:00</th>\n",
       "      <td>0.0</td>\n",
       "    </tr>\n",
       "    <tr>\n",
       "      <th>2016-03-01 02:00:00</th>\n",
       "      <td>0.0</td>\n",
       "    </tr>\n",
       "    <tr>\n",
       "      <th>2016-03-01 03:00:00</th>\n",
       "      <td>0.0</td>\n",
       "    </tr>\n",
       "    <tr>\n",
       "      <th>2016-03-01 04:00:00</th>\n",
       "      <td>0.0</td>\n",
       "    </tr>\n",
       "    <tr>\n",
       "      <th>2016-03-01 05:00:00</th>\n",
       "      <td>0.0</td>\n",
       "    </tr>\n",
       "    <tr>\n",
       "      <th>2016-03-01 06:00:00</th>\n",
       "      <td>19250.0</td>\n",
       "    </tr>\n",
       "    <tr>\n",
       "      <th>2016-03-01 07:00:00</th>\n",
       "      <td>75134.0</td>\n",
       "    </tr>\n",
       "    <tr>\n",
       "      <th>2016-03-01 08:00:00</th>\n",
       "      <td>0.0</td>\n",
       "    </tr>\n",
       "    <tr>\n",
       "      <th>2016-03-01 09:00:00</th>\n",
       "      <td>37871.0</td>\n",
       "    </tr>\n",
       "  </tbody>\n",
       "</table>\n",
       "</div>"
      ],
      "text/plain": [
       "                     Onbound (lbs)\n",
       "Time                              \n",
       "2016-03-01 00:00:00            0.0\n",
       "2016-03-01 01:00:00            0.0\n",
       "2016-03-01 02:00:00            0.0\n",
       "2016-03-01 03:00:00            0.0\n",
       "2016-03-01 04:00:00            0.0\n",
       "2016-03-01 05:00:00            0.0\n",
       "2016-03-01 06:00:00        19250.0\n",
       "2016-03-01 07:00:00        75134.0\n",
       "2016-03-01 08:00:00            0.0\n",
       "2016-03-01 09:00:00        37871.0"
      ]
     },
     "execution_count": 70,
     "metadata": {},
     "output_type": "execute_result"
    }
   ],
   "source": [
    "po = po.reindex(idx, fill_value=0)\n",
    "po.head(10)"
   ]
  },
  {
   "cell_type": "code",
   "execution_count": 71,
   "metadata": {
    "collapsed": false
   },
   "outputs": [
    {
     "data": {
      "text/html": [
       "<div>\n",
       "<table border=\"1\" class=\"dataframe\">\n",
       "  <thead>\n",
       "    <tr style=\"text-align: right;\">\n",
       "      <th></th>\n",
       "      <th>Time</th>\n",
       "      <th>Onbound (lbs)</th>\n",
       "    </tr>\n",
       "  </thead>\n",
       "  <tbody>\n",
       "    <tr>\n",
       "      <th>0</th>\n",
       "      <td>2016-03-01 00:00:00</td>\n",
       "      <td>0.0</td>\n",
       "    </tr>\n",
       "    <tr>\n",
       "      <th>1</th>\n",
       "      <td>2016-03-01 01:00:00</td>\n",
       "      <td>0.0</td>\n",
       "    </tr>\n",
       "    <tr>\n",
       "      <th>2</th>\n",
       "      <td>2016-03-01 02:00:00</td>\n",
       "      <td>0.0</td>\n",
       "    </tr>\n",
       "    <tr>\n",
       "      <th>3</th>\n",
       "      <td>2016-03-01 03:00:00</td>\n",
       "      <td>0.0</td>\n",
       "    </tr>\n",
       "    <tr>\n",
       "      <th>4</th>\n",
       "      <td>2016-03-01 04:00:00</td>\n",
       "      <td>0.0</td>\n",
       "    </tr>\n",
       "    <tr>\n",
       "      <th>5</th>\n",
       "      <td>2016-03-01 05:00:00</td>\n",
       "      <td>0.0</td>\n",
       "    </tr>\n",
       "    <tr>\n",
       "      <th>6</th>\n",
       "      <td>2016-03-01 06:00:00</td>\n",
       "      <td>19250.0</td>\n",
       "    </tr>\n",
       "    <tr>\n",
       "      <th>7</th>\n",
       "      <td>2016-03-01 07:00:00</td>\n",
       "      <td>75134.0</td>\n",
       "    </tr>\n",
       "    <tr>\n",
       "      <th>8</th>\n",
       "      <td>2016-03-01 08:00:00</td>\n",
       "      <td>0.0</td>\n",
       "    </tr>\n",
       "    <tr>\n",
       "      <th>9</th>\n",
       "      <td>2016-03-01 09:00:00</td>\n",
       "      <td>37871.0</td>\n",
       "    </tr>\n",
       "  </tbody>\n",
       "</table>\n",
       "</div>"
      ],
      "text/plain": [
       "                 Time  Onbound (lbs)\n",
       "0 2016-03-01 00:00:00            0.0\n",
       "1 2016-03-01 01:00:00            0.0\n",
       "2 2016-03-01 02:00:00            0.0\n",
       "3 2016-03-01 03:00:00            0.0\n",
       "4 2016-03-01 04:00:00            0.0\n",
       "5 2016-03-01 05:00:00            0.0\n",
       "6 2016-03-01 06:00:00        19250.0\n",
       "7 2016-03-01 07:00:00        75134.0\n",
       "8 2016-03-01 08:00:00            0.0\n",
       "9 2016-03-01 09:00:00        37871.0"
      ]
     },
     "execution_count": 71,
     "metadata": {},
     "output_type": "execute_result"
    }
   ],
   "source": [
    "po.reset_index(level=0, inplace=True)\n",
    "po.head(10)"
   ]
  },
  {
   "cell_type": "code",
   "execution_count": 72,
   "metadata": {
    "collapsed": false
   },
   "outputs": [],
   "source": [
    "kwtpo = pd.merge(kwtp, po, on = 'Time')"
   ]
  },
  {
   "cell_type": "code",
   "execution_count": 74,
   "metadata": {
    "collapsed": false
   },
   "outputs": [
    {
     "data": {
      "text/html": [
       "<div>\n",
       "<table border=\"1\" class=\"dataframe\">\n",
       "  <thead>\n",
       "    <tr style=\"text-align: right;\">\n",
       "      <th></th>\n",
       "      <th>Time</th>\n",
       "      <th>Temperature(F)</th>\n",
       "      <th>Total Facility Power</th>\n",
       "      <th>Inbound(lbs)</th>\n",
       "      <th>Onbound (lbs)</th>\n",
       "    </tr>\n",
       "  </thead>\n",
       "  <tbody>\n",
       "    <tr>\n",
       "      <th>0</th>\n",
       "      <td>2016-03-01 00:00:00</td>\n",
       "      <td>41.80</td>\n",
       "      <td>823.173863</td>\n",
       "      <td>0.0</td>\n",
       "      <td>0.0</td>\n",
       "    </tr>\n",
       "    <tr>\n",
       "      <th>1</th>\n",
       "      <td>2016-03-01 01:00:00</td>\n",
       "      <td>40.83</td>\n",
       "      <td>787.818586</td>\n",
       "      <td>0.0</td>\n",
       "      <td>0.0</td>\n",
       "    </tr>\n",
       "    <tr>\n",
       "      <th>2</th>\n",
       "      <td>2016-03-01 02:00:00</td>\n",
       "      <td>35.73</td>\n",
       "      <td>741.652377</td>\n",
       "      <td>0.0</td>\n",
       "      <td>0.0</td>\n",
       "    </tr>\n",
       "    <tr>\n",
       "      <th>3</th>\n",
       "      <td>2016-03-01 03:00:00</td>\n",
       "      <td>37.26</td>\n",
       "      <td>768.046417</td>\n",
       "      <td>0.0</td>\n",
       "      <td>0.0</td>\n",
       "    </tr>\n",
       "    <tr>\n",
       "      <th>4</th>\n",
       "      <td>2016-03-01 04:00:00</td>\n",
       "      <td>36.34</td>\n",
       "      <td>808.480284</td>\n",
       "      <td>0.0</td>\n",
       "      <td>0.0</td>\n",
       "    </tr>\n",
       "    <tr>\n",
       "      <th>5</th>\n",
       "      <td>2016-03-01 05:00:00</td>\n",
       "      <td>35.23</td>\n",
       "      <td>784.306267</td>\n",
       "      <td>0.0</td>\n",
       "      <td>0.0</td>\n",
       "    </tr>\n",
       "    <tr>\n",
       "      <th>6</th>\n",
       "      <td>2016-03-01 06:00:00</td>\n",
       "      <td>34.21</td>\n",
       "      <td>821.327244</td>\n",
       "      <td>0.0</td>\n",
       "      <td>19250.0</td>\n",
       "    </tr>\n",
       "    <tr>\n",
       "      <th>7</th>\n",
       "      <td>2016-03-01 07:00:00</td>\n",
       "      <td>33.43</td>\n",
       "      <td>788.318806</td>\n",
       "      <td>0.0</td>\n",
       "      <td>75134.0</td>\n",
       "    </tr>\n",
       "    <tr>\n",
       "      <th>8</th>\n",
       "      <td>2016-03-01 08:00:00</td>\n",
       "      <td>39.73</td>\n",
       "      <td>754.899474</td>\n",
       "      <td>0.0</td>\n",
       "      <td>0.0</td>\n",
       "    </tr>\n",
       "    <tr>\n",
       "      <th>9</th>\n",
       "      <td>2016-03-01 09:00:00</td>\n",
       "      <td>54.06</td>\n",
       "      <td>820.241929</td>\n",
       "      <td>73026.0</td>\n",
       "      <td>37871.0</td>\n",
       "    </tr>\n",
       "  </tbody>\n",
       "</table>\n",
       "</div>"
      ],
      "text/plain": [
       "                 Time  Temperature(F)  Total Facility Power  Inbound(lbs)  \\\n",
       "0 2016-03-01 00:00:00           41.80            823.173863           0.0   \n",
       "1 2016-03-01 01:00:00           40.83            787.818586           0.0   \n",
       "2 2016-03-01 02:00:00           35.73            741.652377           0.0   \n",
       "3 2016-03-01 03:00:00           37.26            768.046417           0.0   \n",
       "4 2016-03-01 04:00:00           36.34            808.480284           0.0   \n",
       "5 2016-03-01 05:00:00           35.23            784.306267           0.0   \n",
       "6 2016-03-01 06:00:00           34.21            821.327244           0.0   \n",
       "7 2016-03-01 07:00:00           33.43            788.318806           0.0   \n",
       "8 2016-03-01 08:00:00           39.73            754.899474           0.0   \n",
       "9 2016-03-01 09:00:00           54.06            820.241929       73026.0   \n",
       "\n",
       "   Onbound (lbs)  \n",
       "0            0.0  \n",
       "1            0.0  \n",
       "2            0.0  \n",
       "3            0.0  \n",
       "4            0.0  \n",
       "5            0.0  \n",
       "6        19250.0  \n",
       "7        75134.0  \n",
       "8            0.0  \n",
       "9        37871.0  "
      ]
     },
     "execution_count": 74,
     "metadata": {},
     "output_type": "execute_result"
    }
   ],
   "source": [
    "kwtpo.head(10)"
   ]
  },
  {
   "cell_type": "code",
   "execution_count": 75,
   "metadata": {
    "collapsed": true
   },
   "outputs": [],
   "source": [
    "kwtpo.to_csv('f78_AllData.csv')"
   ]
  },
  {
   "cell_type": "code",
   "execution_count": null,
   "metadata": {
    "collapsed": true
   },
   "outputs": [],
   "source": []
  },
  {
   "cell_type": "code",
   "execution_count": null,
   "metadata": {
    "collapsed": true
   },
   "outputs": [],
   "source": []
  }
 ],
 "metadata": {
  "kernelspec": {
   "display_name": "Python 3",
   "language": "python",
   "name": "python3"
  },
  "language_info": {
   "codemirror_mode": {
    "name": "ipython",
    "version": 3
   },
   "file_extension": ".py",
   "mimetype": "text/x-python",
   "name": "python",
   "nbconvert_exporter": "python",
   "pygments_lexer": "ipython3",
   "version": "3.5.1"
  }
 },
 "nbformat": 4,
 "nbformat_minor": 0
}
